{
 "cells": [
  {
   "cell_type": "code",
   "execution_count": 24,
   "id": "1d2e629c",
   "metadata": {},
   "outputs": [
    {
     "name": "stdout",
     "output_type": "stream",
     "text": [
      "Quantas horas você trabalhou?: 2\n",
      "Salário Bruto: R$ 80.0 \n",
      "\n",
      "Salário Líquido: R$ 56.0 \n",
      "\n",
      "Descontos aplicados: R$ 24.0 \n",
      "\n"
     ]
    }
   ],
   "source": [
    "\"\"\"\n",
    "Programa: Salário e Descontos\n",
    "Descrição: Este programa pergunta o número de horas trabalhadas e imprime o salário bruto, líquido e total de descontos. \n",
    "           Desconto do imposto = 30%. Hora-aula = R$40,00\n",
    "Autor: Nikolas Martins\n",
    "Data: 21/06/2023\n",
    "Versão: 0.0.1\n",
    "\"\"\"\n",
    "\n",
    "# Atribuição de variáveis\n",
    "\n",
    "valores = [0] * 3\n",
    "horas = [] \n",
    "\n",
    "# Entrada de dados\n",
    "\n",
    "horas = float(input(f\"Quantas horas você trabalhou?: \"))\n",
    "        \n",
    "# Processamento e Saída de dados\n",
    "\n",
    "for i in range(len(valores)): \n",
    "    if i==0:\n",
    "        valores[i] = horas * 40\n",
    "        print(\"Salário Bruto: R$\",valores[i],\"\\n\")\n",
    "        valores[i+1] = ((valores[i]) - (valores[i]*0.3))\n",
    "        valores[i+2] = valores[i]*0.3\n",
    "    if i==1:\n",
    "        print(\"Salário Líquido: R$\",valores[i],\"\\n\")\n",
    "    if i==2:\n",
    "        print(\"Descontos aplicados: R$\",valores[i],\"\\n\")"
   ]
  },
  {
   "cell_type": "code",
   "execution_count": null,
   "id": "c69f2459",
   "metadata": {},
   "outputs": [],
   "source": []
  }
 ],
 "metadata": {
  "kernelspec": {
   "display_name": "Python 3 (ipykernel)",
   "language": "python",
   "name": "python3"
  },
  "language_info": {
   "codemirror_mode": {
    "name": "ipython",
    "version": 3
   },
   "file_extension": ".py",
   "mimetype": "text/x-python",
   "name": "python",
   "nbconvert_exporter": "python",
   "pygments_lexer": "ipython3",
   "version": "3.10.9"
  }
 },
 "nbformat": 4,
 "nbformat_minor": 5
}
